{
 "cells": [
  {
   "cell_type": "code",
   "execution_count": 1,
   "metadata": {},
   "outputs": [],
   "source": [
    "with open('23.11.22.txt', mode='r') as file:\n",
    "    strings = file.readlines()"
   ]
  },
  {
   "cell_type": "code",
   "execution_count": 2,
   "metadata": {},
   "outputs": [],
   "source": [
    "stripped = strings[0].replace(',', '').rstrip().split()\n",
    "header = []\n",
    "for i in range(len(stripped)//2):\n",
    "    header.append(f'{stripped[2*i]} {stripped[2*i+1]}')"
   ]
  },
  {
   "cell_type": "code",
   "execution_count": 3,
   "metadata": {},
   "outputs": [
    {
     "data": {
      "text/plain": [
       "[434.14,\n",
       " 47.70719,\n",
       " 1.0,\n",
       " 350.8672,\n",
       " 0.025,\n",
       " 19344.37,\n",
       " 129.8458,\n",
       " 323.44,\n",
       " 782.8507,\n",
       " 2963.538,\n",
       " 0.166687,\n",
       " 0.0007516054,\n",
       " 0.01587337,\n",
       " 879195.0,\n",
       " 453.3142]"
      ]
     },
     "execution_count": 3,
     "metadata": {},
     "output_type": "execute_result"
    }
   ],
   "source": [
    "stripped = strings[1].replace(',' , '.').rstrip().split()\n",
    "row = []\n",
    "for i in range(len(stripped)):\n",
    "    row.append(float(stripped[i]))\n",
    "\n",
    "row"
   ]
  },
  {
   "cell_type": "code",
   "execution_count": null,
   "metadata": {},
   "outputs": [],
   "source": []
  }
 ],
 "metadata": {
  "kernelspec": {
   "display_name": "Python 3",
   "language": "python",
   "name": "python3"
  },
  "language_info": {
   "codemirror_mode": {
    "name": "ipython",
    "version": 3
   },
   "file_extension": ".py",
   "mimetype": "text/x-python",
   "name": "python",
   "nbconvert_exporter": "python",
   "pygments_lexer": "ipython3",
   "version": "3.10.6"
  }
 },
 "nbformat": 4,
 "nbformat_minor": 2
}
